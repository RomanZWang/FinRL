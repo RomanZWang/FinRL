{
 "cells": [
  {
   "cell_type": "markdown",
   "metadata": {
    "colab_type": "text",
    "id": "view-in-github"
   },
   "source": [
    "<a href=\"https://colab.research.google.com/github/AI4Finance-LLC/FinRL-Library/blob/master/FinRL_ensemble_stock_trading_ICAIF_2020.ipynb\" target=\"_parent\"><img src=\"https://colab.research.google.com/assets/colab-badge.svg\" alt=\"Open In Colab\"/></a>"
   ]
  },
  {
   "cell_type": "markdown",
   "metadata": {
    "id": "gXaoZs2lh1hi"
   },
   "source": [
    "# Deep Reinforcement Learning for Stock Trading from Scratch: Multiple Stock Trading Using Ensemble Strategy\n",
    "\n",
    "Tutorials to use OpenAI DRL to trade multiple stocks using ensemble strategy in one Jupyter Notebook | Presented at ICAIF 2020\n",
    "\n",
    "* This notebook is the reimplementation of our paper: Deep Reinforcement Learning for Automated Stock Trading: An Ensemble Strategy, using FinRL.\n",
    "* Check out medium blog for detailed explanations: https://medium.com/@ai4finance/deep-reinforcement-learning-for-automated-stock-trading-f1dad0126a02\n",
    "* Please report any issues to our Github: https://github.com/AI4Finance-LLC/FinRL-Library/issues\n",
    "* **Pytorch Version** \n",
    "\n"
   ]
  },
  {
   "cell_type": "markdown",
   "metadata": {
    "id": "lGunVt8oLCVS"
   },
   "source": [
    "# Content"
   ]
  },
  {
   "cell_type": "markdown",
   "metadata": {
    "id": "HOzAKQ-SLGX6"
   },
   "source": [
    "* [1. Problem Definition](#0)\n",
    "* [2. Getting Started - Load Python packages](#1)\n",
    "    * [2.1. Install Packages](#1.1)    \n",
    "    * [2.2. Check Additional Packages](#1.2)\n",
    "    * [2.3. Import Packages](#1.3)\n",
    "    * [2.4. Create Folders](#1.4)\n",
    "* [3. Download Data](#2)\n",
    "* [4. Preprocess Data](#3)        \n",
    "    * [4.1. Technical Indicators](#3.1)\n",
    "    * [4.2. Perform Feature Engineering](#3.2)\n",
    "* [5.Build Environment](#4)  \n",
    "    * [5.1. Training & Trade Data Split](#4.1)\n",
    "    * [5.2. User-defined Environment](#4.2)   \n",
    "    * [5.3. Initialize Environment](#4.3)    \n",
    "* [6.Implement DRL Algorithms](#5)  \n",
    "* [7.Backtesting Performance](#6)  \n",
    "    * [7.1. BackTestStats](#6.1)\n",
    "    * [7.2. BackTestPlot](#6.2)   \n",
    "    * [7.3. Baseline Stats](#6.3)   \n",
    "    * [7.3. Compare to Stock Market Index](#6.4)             "
   ]
  },
  {
   "cell_type": "markdown",
   "metadata": {
    "id": "sApkDlD9LIZv"
   },
   "source": [
    "<a id='0'></a>\n",
    "# Part 1. Problem Definition"
   ]
  },
  {
   "cell_type": "markdown",
   "metadata": {
    "id": "HjLD2TZSLKZ-"
   },
   "source": [
    "This problem is to design an automated trading solution for single stock trading. We model the stock trading process as a Markov Decision Process (MDP). We then formulate our trading goal as a maximization problem.\n",
    "\n",
    "The algorithm is trained using Deep Reinforcement Learning (DRL) algorithms and the components of the reinforcement learning environment are:\n",
    "\n",
    "\n",
    "* Action: The action space describes the allowed actions that the agent interacts with the\n",
    "environment. Normally, a ∈ A includes three actions: a ∈ {−1, 0, 1}, where −1, 0, 1 represent\n",
    "selling, holding, and buying one stock. Also, an action can be carried upon multiple shares. We use\n",
    "an action space {−k, ..., −1, 0, 1, ..., k}, where k denotes the number of shares. For example, \"Buy\n",
    "10 shares of AAPL\" or \"Sell 10 shares of AAPL\" are 10 or −10, respectively\n",
    "\n",
    "* Reward function: r(s, a, s′) is the incentive mechanism for an agent to learn a better action. The change of the portfolio value when action a is taken at state s and arriving at new state s',  i.e., r(s, a, s′) = v′ − v, where v′ and v represent the portfolio\n",
    "values at state s′ and s, respectively\n",
    "\n",
    "* State: The state space describes the observations that the agent receives from the environment. Just as a human trader needs to analyze various information before executing a trade, so\n",
    "our trading agent observes many different features to better learn in an interactive environment.\n",
    "\n",
    "* Environment: Dow 30 consituents\n",
    "\n",
    "\n",
    "The data of the single stock that we will be using for this case study is obtained from Yahoo Finance API. The data contains Open-High-Low-Close price and volume.\n"
   ]
  },
  {
   "cell_type": "markdown",
   "metadata": {
    "id": "Ffsre789LY08"
   },
   "source": [
    "<a id='1'></a>\n",
    "# Part 2. Getting Started- Load Python Packages"
   ]
  },
  {
   "cell_type": "markdown",
   "metadata": {
    "id": "Uy5_PTmOh1hj"
   },
   "source": [
    "<a id='1.1'></a>\n",
    "## 2.1. Install all the packages through FinRL library\n"
   ]
  },
  {
   "cell_type": "code",
   "execution_count": 1,
   "metadata": {
    "id": "mPT0ipYE28wL"
   },
   "outputs": [],
   "source": [
    "# ## install finrl library\n",
    "# !pip install git+https://github.com/AI4Finance-LLC/FinRL-Library.git"
   ]
  },
  {
   "cell_type": "markdown",
   "metadata": {
    "id": "osBHhVysOEzi"
   },
   "source": [
    "\n",
    "<a id='1.2'></a>\n",
    "## 2.2. Check if the additional packages needed are present, if not install them. \n",
    "* Yahoo Finance API\n",
    "* pandas\n",
    "* numpy\n",
    "* matplotlib\n",
    "* stockstats\n",
    "* OpenAI gym\n",
    "* stable-baselines\n",
    "* tensorflow\n",
    "* pyfolio"
   ]
  },
  {
   "cell_type": "markdown",
   "metadata": {
    "id": "nGv01K8Sh1hn"
   },
   "source": [
    "<a id='1.3'></a>\n",
    "## 2.3. Import Packages"
   ]
  },
  {
   "cell_type": "code",
   "execution_count": 1,
   "metadata": {
    "id": "EeMK7Uentj1V"
   },
   "outputs": [],
   "source": [
    "import warnings\n",
    "warnings.filterwarnings(\"ignore\")"
   ]
  },
  {
   "cell_type": "code",
   "execution_count": 2,
   "metadata": {
    "id": "lPqeTTwoh1hn"
   },
   "outputs": [
    {
     "ename": "KeyError",
     "evalue": "'A2C2_PARAMS'",
     "output_type": "error",
     "traceback": [
      "\u001b[0;31m---------------------------------------------------------------------------\u001b[0m",
      "\u001b[0;31mKeyError\u001b[0m                                  Traceback (most recent call last)",
      "\u001b[0;32m<ipython-input-2-4aac01f92ca4>\u001b[0m in \u001b[0;36m<module>\u001b[0;34m\u001b[0m\n\u001b[1;32m     12\u001b[0m \u001b[0;32mfrom\u001b[0m \u001b[0mfinrl\u001b[0m\u001b[0;34m.\u001b[0m\u001b[0mpreprocessing\u001b[0m\u001b[0;34m.\u001b[0m\u001b[0mdata\u001b[0m \u001b[0;32mimport\u001b[0m \u001b[0mdata_split\u001b[0m\u001b[0;34m\u001b[0m\u001b[0;34m\u001b[0m\u001b[0m\n\u001b[1;32m     13\u001b[0m \u001b[0;32mfrom\u001b[0m \u001b[0mfinrl\u001b[0m\u001b[0;34m.\u001b[0m\u001b[0menv\u001b[0m\u001b[0;34m.\u001b[0m\u001b[0menv_stocktrading\u001b[0m \u001b[0;32mimport\u001b[0m \u001b[0mStockTradingEnv\u001b[0m\u001b[0;34m\u001b[0m\u001b[0;34m\u001b[0m\u001b[0m\n\u001b[0;32m---> 14\u001b[0;31m \u001b[0;32mfrom\u001b[0m \u001b[0mfinrl\u001b[0m\u001b[0;34m.\u001b[0m\u001b[0mmodel\u001b[0m\u001b[0;34m.\u001b[0m\u001b[0mmodels\u001b[0m \u001b[0;32mimport\u001b[0m \u001b[0mDRLAgent\u001b[0m\u001b[0;34m,\u001b[0m\u001b[0mDRLEnsembleAgent\u001b[0m\u001b[0;34m\u001b[0m\u001b[0;34m\u001b[0m\u001b[0m\n\u001b[0m\u001b[1;32m     15\u001b[0m \u001b[0;31m# from finrl.trade.backtest import get_baseline, backtest_stats, backtest_plot\u001b[0m\u001b[0;34m\u001b[0m\u001b[0;34m\u001b[0m\u001b[0;34m\u001b[0m\u001b[0m\n\u001b[1;32m     16\u001b[0m \u001b[0;34m\u001b[0m\u001b[0m\n",
      "\u001b[0;32m~/FinRL-more-models-sharpe/finrl/model/models.py\u001b[0m in \u001b[0;36m<module>\u001b[0;34m\u001b[0m\n\u001b[1;32m     36\u001b[0m \u001b[0mMODELS\u001b[0m \u001b[0;34m=\u001b[0m \u001b[0;34m{\u001b[0m\u001b[0;34m\"a2c\"\u001b[0m\u001b[0;34m:\u001b[0m \u001b[0mA2C\u001b[0m\u001b[0;34m,\u001b[0m \u001b[0;34m\"a2c2\"\u001b[0m\u001b[0;34m:\u001b[0m \u001b[0mA2C\u001b[0m\u001b[0;34m,\u001b[0m \u001b[0;34m\"ddpg\"\u001b[0m\u001b[0;34m:\u001b[0m \u001b[0mDDPG\u001b[0m\u001b[0;34m,\u001b[0m \u001b[0;34m\"ddpg2\"\u001b[0m\u001b[0;34m:\u001b[0m \u001b[0mDDPG\u001b[0m\u001b[0;34m,\u001b[0m \u001b[0;34m\"td3\"\u001b[0m\u001b[0;34m:\u001b[0m \u001b[0mTD3\u001b[0m\u001b[0;34m,\u001b[0m \u001b[0;34m\"sac\"\u001b[0m\u001b[0;34m:\u001b[0m \u001b[0mSAC\u001b[0m\u001b[0;34m,\u001b[0m \u001b[0;34m\"ppo\"\u001b[0m\u001b[0;34m:\u001b[0m \u001b[0mPPO\u001b[0m\u001b[0;34m,\u001b[0m \u001b[0;34m\"ppo2\"\u001b[0m\u001b[0;34m:\u001b[0m \u001b[0mPPO\u001b[0m\u001b[0;34m}\u001b[0m\u001b[0;34m\u001b[0m\u001b[0;34m\u001b[0m\u001b[0m\n\u001b[1;32m     37\u001b[0m \u001b[0;34m\u001b[0m\u001b[0m\n\u001b[0;32m---> 38\u001b[0;31m \u001b[0mMODEL_KWARGS\u001b[0m \u001b[0;34m=\u001b[0m \u001b[0;34m{\u001b[0m\u001b[0mx\u001b[0m\u001b[0;34m:\u001b[0m \u001b[0mconfig\u001b[0m\u001b[0;34m.\u001b[0m\u001b[0m__dict__\u001b[0m\u001b[0;34m[\u001b[0m\u001b[0;34mf\"{x.upper()}_PARAMS\"\u001b[0m\u001b[0;34m]\u001b[0m \u001b[0;32mfor\u001b[0m \u001b[0mx\u001b[0m \u001b[0;32min\u001b[0m \u001b[0mMODELS\u001b[0m\u001b[0;34m.\u001b[0m\u001b[0mkeys\u001b[0m\u001b[0;34m(\u001b[0m\u001b[0;34m)\u001b[0m\u001b[0;34m}\u001b[0m\u001b[0;34m\u001b[0m\u001b[0;34m\u001b[0m\u001b[0m\n\u001b[0m\u001b[1;32m     39\u001b[0m \u001b[0;34m\u001b[0m\u001b[0m\n\u001b[1;32m     40\u001b[0m NOISE = {\n",
      "\u001b[0;32m~/FinRL-more-models-sharpe/finrl/model/models.py\u001b[0m in \u001b[0;36m<dictcomp>\u001b[0;34m(.0)\u001b[0m\n\u001b[1;32m     36\u001b[0m \u001b[0mMODELS\u001b[0m \u001b[0;34m=\u001b[0m \u001b[0;34m{\u001b[0m\u001b[0;34m\"a2c\"\u001b[0m\u001b[0;34m:\u001b[0m \u001b[0mA2C\u001b[0m\u001b[0;34m,\u001b[0m \u001b[0;34m\"a2c2\"\u001b[0m\u001b[0;34m:\u001b[0m \u001b[0mA2C\u001b[0m\u001b[0;34m,\u001b[0m \u001b[0;34m\"ddpg\"\u001b[0m\u001b[0;34m:\u001b[0m \u001b[0mDDPG\u001b[0m\u001b[0;34m,\u001b[0m \u001b[0;34m\"ddpg2\"\u001b[0m\u001b[0;34m:\u001b[0m \u001b[0mDDPG\u001b[0m\u001b[0;34m,\u001b[0m \u001b[0;34m\"td3\"\u001b[0m\u001b[0;34m:\u001b[0m \u001b[0mTD3\u001b[0m\u001b[0;34m,\u001b[0m \u001b[0;34m\"sac\"\u001b[0m\u001b[0;34m:\u001b[0m \u001b[0mSAC\u001b[0m\u001b[0;34m,\u001b[0m \u001b[0;34m\"ppo\"\u001b[0m\u001b[0;34m:\u001b[0m \u001b[0mPPO\u001b[0m\u001b[0;34m,\u001b[0m \u001b[0;34m\"ppo2\"\u001b[0m\u001b[0;34m:\u001b[0m \u001b[0mPPO\u001b[0m\u001b[0;34m}\u001b[0m\u001b[0;34m\u001b[0m\u001b[0;34m\u001b[0m\u001b[0m\n\u001b[1;32m     37\u001b[0m \u001b[0;34m\u001b[0m\u001b[0m\n\u001b[0;32m---> 38\u001b[0;31m \u001b[0mMODEL_KWARGS\u001b[0m \u001b[0;34m=\u001b[0m \u001b[0;34m{\u001b[0m\u001b[0mx\u001b[0m\u001b[0;34m:\u001b[0m \u001b[0mconfig\u001b[0m\u001b[0;34m.\u001b[0m\u001b[0m__dict__\u001b[0m\u001b[0;34m[\u001b[0m\u001b[0;34mf\"{x.upper()}_PARAMS\"\u001b[0m\u001b[0;34m]\u001b[0m \u001b[0;32mfor\u001b[0m \u001b[0mx\u001b[0m \u001b[0;32min\u001b[0m \u001b[0mMODELS\u001b[0m\u001b[0;34m.\u001b[0m\u001b[0mkeys\u001b[0m\u001b[0;34m(\u001b[0m\u001b[0;34m)\u001b[0m\u001b[0;34m}\u001b[0m\u001b[0;34m\u001b[0m\u001b[0;34m\u001b[0m\u001b[0m\n\u001b[0m\u001b[1;32m     39\u001b[0m \u001b[0;34m\u001b[0m\u001b[0m\n\u001b[1;32m     40\u001b[0m NOISE = {\n",
      "\u001b[0;31mKeyError\u001b[0m: 'A2C2_PARAMS'"
     ]
    }
   ],
   "source": [
    "import pandas as pd\n",
    "import numpy as np\n",
    "import matplotlib\n",
    "import matplotlib.pyplot as plt\n",
    "# matplotlib.use('Agg')\n",
    "import datetime\n",
    "\n",
    "%matplotlib inline\n",
    "from finrl.config import config\n",
    "from finrl.marketdata.yahoodownloader import YahooDownloader\n",
    "from finrl.preprocessing.preprocessors import FeatureEngineer\n",
    "from finrl.preprocessing.data import data_split\n",
    "from finrl.env.env_stocktrading import StockTradingEnv\n",
    "from finrl.model.models import DRLAgent,DRLEnsembleAgent\n",
    "# from finrl.trade.backtest import get_baseline, backtest_stats, backtest_plot\n",
    "\n",
    "from pprint import pprint\n",
    "\n",
    "import sys\n",
    "sys.path.append(\"../FinRL-Library\")\n",
    "\n",
    "import itertools"
   ]
  },
  {
   "cell_type": "markdown",
   "metadata": {
    "id": "T2owTj985RW4"
   },
   "source": [
    "<a id='1.4'></a>\n",
    "## 2.4. Create Folders"
   ]
  },
  {
   "cell_type": "code",
   "execution_count": null,
   "metadata": {
    "id": "w9A8CN5R5PuZ"
   },
   "outputs": [],
   "source": [
    "import os\n",
    "if not os.path.exists(\"./\" + config.DATA_SAVE_DIR):\n",
    "    os.makedirs(\"./\" + config.DATA_SAVE_DIR)\n",
    "if not os.path.exists(\"./\" + config.TRAINED_MODEL_DIR):\n",
    "    os.makedirs(\"./\" + config.TRAINED_MODEL_DIR)\n",
    "if not os.path.exists(\"./\" + config.TENSORBOARD_LOG_DIR):\n",
    "    os.makedirs(\"./\" + config.TENSORBOARD_LOG_DIR)\n",
    "if not os.path.exists(\"./\" + config.RESULTS_DIR):\n",
    "    os.makedirs(\"./\" + config.RESULTS_DIR)"
   ]
  },
  {
   "cell_type": "markdown",
   "metadata": {
    "id": "A289rQWMh1hq"
   },
   "source": [
    "<a id='2'></a>\n",
    "# Part 3. Download Data\n",
    "Yahoo Finance is a website that provides stock data, financial news, financial reports, etc. All the data provided by Yahoo Finance is free.\n",
    "* FinRL uses a class **YahooDownloader** to fetch data from Yahoo Finance API\n",
    "* Call Limit: Using the Public API (without authentication), you are limited to 2,000 requests per hour per IP (or up to a total of 48,000 requests a day).\n"
   ]
  },
  {
   "cell_type": "markdown",
   "metadata": {
    "id": "NPeQ7iS-LoMm"
   },
   "source": [
    "\n",
    "\n",
    "-----\n",
    "class YahooDownloader:\n",
    "    Provides methods for retrieving daily stock data from\n",
    "    Yahoo Finance API\n",
    "\n",
    "    Attributes\n",
    "    ----------\n",
    "        start_date : str\n",
    "            start date of the data (modified from config.py)\n",
    "        end_date : str\n",
    "            end date of the data (modified from config.py)\n",
    "        ticker_list : list\n",
    "            a list of stock tickers (modified from config.py)\n",
    "\n",
    "    Methods\n",
    "    -------\n",
    "    fetch_data()\n",
    "        Fetches data from yahoo API\n"
   ]
  },
  {
   "cell_type": "code",
   "execution_count": 3,
   "metadata": {
    "colab": {
     "base_uri": "https://localhost:8080/",
     "height": 35
    },
    "id": "h3XJnvrbLp-C",
    "outputId": "87dea23f-469d-4e9d-de91-0f8a74929de2"
   },
   "outputs": [
    {
     "data": {
      "text/plain": [
       "'2004-08-11'"
      ]
     },
     "execution_count": 3,
     "metadata": {},
     "output_type": "execute_result"
    }
   ],
   "source": [
    "# from config.py start_date is a string\n",
    "config.START_DATE"
   ]
  },
  {
   "cell_type": "code",
   "execution_count": 4,
   "metadata": {
    "colab": {
     "base_uri": "https://localhost:8080/"
    },
    "id": "JzqRRTOX6aFu",
    "outputId": "d3baf63f-948a-49f9-f6f2-b7241971b8ea"
   },
   "outputs": [
    {
     "name": "stdout",
     "output_type": "stream",
     "text": [
      "['AAPL', 'MSFT', 'JPM', 'RTX', 'PG', 'GS', 'NKE', 'DIS', 'AXP', 'HD', 'INTC', 'WMT', 'IBM', 'MRK', 'UNH', 'KO', 'CAT', 'TRV', 'JNJ', 'CVX', 'MCD', 'VZ', 'CSCO', 'XOM', 'BA', 'MMM', 'PFE', 'WBA', 'DD']\n"
     ]
    }
   ],
   "source": [
    "print(config.DOW_30_TICKER)"
   ]
  },
  {
   "cell_type": "code",
   "execution_count": 5,
   "metadata": {},
   "outputs": [],
   "source": [
    "%load_ext autoreload\n",
    "%autoreload 2"
   ]
  },
  {
   "cell_type": "code",
   "execution_count": 6,
   "metadata": {
    "colab": {
     "base_uri": "https://localhost:8080/"
    },
    "id": "yCKm4om-s9kE",
    "outputId": "932583d8-f98b-4243-c02d-375f7272db1a"
   },
   "outputs": [],
   "source": [
    "# from finrl.config.config import MISSING3\n",
    "# df = YahooDownloader(start_date = '2006-01-01',\n",
    "#                      end_date = '2021-06-11',\n",
    "#                      ticker_list = config.DOW_30_TICKER).fetch_data()"
   ]
  },
  {
   "cell_type": "code",
   "execution_count": 7,
   "metadata": {},
   "outputs": [],
   "source": [
    "# df.append(df2).append(df3).append(df4).append(df5)"
   ]
  },
  {
   "cell_type": "code",
   "execution_count": 8,
   "metadata": {},
   "outputs": [
    {
     "data": {
      "text/html": [
       "<div>\n",
       "<style scoped>\n",
       "    .dataframe tbody tr th:only-of-type {\n",
       "        vertical-align: middle;\n",
       "    }\n",
       "\n",
       "    .dataframe tbody tr th {\n",
       "        vertical-align: top;\n",
       "    }\n",
       "\n",
       "    .dataframe thead th {\n",
       "        text-align: right;\n",
       "    }\n",
       "</style>\n",
       "<table border=\"1\" class=\"dataframe\">\n",
       "  <thead>\n",
       "    <tr style=\"text-align: right;\">\n",
       "      <th></th>\n",
       "      <th>Unnamed: 0</th>\n",
       "      <th>date</th>\n",
       "      <th>open</th>\n",
       "      <th>high</th>\n",
       "      <th>low</th>\n",
       "      <th>close</th>\n",
       "      <th>volume</th>\n",
       "      <th>tic</th>\n",
       "      <th>day</th>\n",
       "    </tr>\n",
       "  </thead>\n",
       "  <tbody>\n",
       "    <tr>\n",
       "      <th>0</th>\n",
       "      <td>0</td>\n",
       "      <td>2006-01-03</td>\n",
       "      <td>2.585000</td>\n",
       "      <td>2.669643</td>\n",
       "      <td>2.580357</td>\n",
       "      <td>2.295634</td>\n",
       "      <td>807234400</td>\n",
       "      <td>AAPL</td>\n",
       "      <td>1</td>\n",
       "    </tr>\n",
       "    <tr>\n",
       "      <th>1</th>\n",
       "      <td>1</td>\n",
       "      <td>2006-01-03</td>\n",
       "      <td>51.700001</td>\n",
       "      <td>52.580002</td>\n",
       "      <td>51.049999</td>\n",
       "      <td>41.155041</td>\n",
       "      <td>7825700</td>\n",
       "      <td>AXP</td>\n",
       "      <td>1</td>\n",
       "    </tr>\n",
       "    <tr>\n",
       "      <th>2</th>\n",
       "      <td>2</td>\n",
       "      <td>2006-01-03</td>\n",
       "      <td>70.400002</td>\n",
       "      <td>70.599998</td>\n",
       "      <td>69.330002</td>\n",
       "      <td>50.119705</td>\n",
       "      <td>4943000</td>\n",
       "      <td>BA</td>\n",
       "      <td>1</td>\n",
       "    </tr>\n",
       "    <tr>\n",
       "      <th>3</th>\n",
       "      <td>3</td>\n",
       "      <td>2006-01-03</td>\n",
       "      <td>57.869999</td>\n",
       "      <td>58.110001</td>\n",
       "      <td>57.049999</td>\n",
       "      <td>38.086823</td>\n",
       "      <td>3697500</td>\n",
       "      <td>CAT</td>\n",
       "      <td>1</td>\n",
       "    </tr>\n",
       "    <tr>\n",
       "      <th>4</th>\n",
       "      <td>4</td>\n",
       "      <td>2006-01-03</td>\n",
       "      <td>17.209999</td>\n",
       "      <td>17.490000</td>\n",
       "      <td>17.180000</td>\n",
       "      <td>12.956775</td>\n",
       "      <td>55426000</td>\n",
       "      <td>CSCO</td>\n",
       "      <td>1</td>\n",
       "    </tr>\n",
       "    <tr>\n",
       "      <th>...</th>\n",
       "      <td>...</td>\n",
       "      <td>...</td>\n",
       "      <td>...</td>\n",
       "      <td>...</td>\n",
       "      <td>...</td>\n",
       "      <td>...</td>\n",
       "      <td>...</td>\n",
       "      <td>...</td>\n",
       "      <td>...</td>\n",
       "    </tr>\n",
       "    <tr>\n",
       "      <th>116020</th>\n",
       "      <td>116020</td>\n",
       "      <td>2021-06-10</td>\n",
       "      <td>233.100006</td>\n",
       "      <td>234.259995</td>\n",
       "      <td>232.130005</td>\n",
       "      <td>233.949997</td>\n",
       "      <td>4452500</td>\n",
       "      <td>V</td>\n",
       "      <td>3</td>\n",
       "    </tr>\n",
       "    <tr>\n",
       "      <th>116021</th>\n",
       "      <td>116021</td>\n",
       "      <td>2021-06-10</td>\n",
       "      <td>57.330002</td>\n",
       "      <td>57.610001</td>\n",
       "      <td>57.220001</td>\n",
       "      <td>57.340000</td>\n",
       "      <td>12013600</td>\n",
       "      <td>VZ</td>\n",
       "      <td>3</td>\n",
       "    </tr>\n",
       "    <tr>\n",
       "      <th>116022</th>\n",
       "      <td>116022</td>\n",
       "      <td>2021-06-10</td>\n",
       "      <td>53.799999</td>\n",
       "      <td>55.580002</td>\n",
       "      <td>53.570000</td>\n",
       "      <td>55.310001</td>\n",
       "      <td>6638000</td>\n",
       "      <td>WBA</td>\n",
       "      <td>3</td>\n",
       "    </tr>\n",
       "    <tr>\n",
       "      <th>116023</th>\n",
       "      <td>116023</td>\n",
       "      <td>2021-06-10</td>\n",
       "      <td>139.080002</td>\n",
       "      <td>140.190002</td>\n",
       "      <td>139.080002</td>\n",
       "      <td>139.880005</td>\n",
       "      <td>5459500</td>\n",
       "      <td>WMT</td>\n",
       "      <td>3</td>\n",
       "    </tr>\n",
       "    <tr>\n",
       "      <th>116024</th>\n",
       "      <td>116024</td>\n",
       "      <td>2021-06-10</td>\n",
       "      <td>63.610001</td>\n",
       "      <td>63.980000</td>\n",
       "      <td>62.250000</td>\n",
       "      <td>62.750000</td>\n",
       "      <td>27488700</td>\n",
       "      <td>XOM</td>\n",
       "      <td>3</td>\n",
       "    </tr>\n",
       "  </tbody>\n",
       "</table>\n",
       "<p>116025 rows × 9 columns</p>\n",
       "</div>"
      ],
      "text/plain": [
       "        Unnamed: 0        date        open        high         low  \\\n",
       "0                0  2006-01-03    2.585000    2.669643    2.580357   \n",
       "1                1  2006-01-03   51.700001   52.580002   51.049999   \n",
       "2                2  2006-01-03   70.400002   70.599998   69.330002   \n",
       "3                3  2006-01-03   57.869999   58.110001   57.049999   \n",
       "4                4  2006-01-03   17.209999   17.490000   17.180000   \n",
       "...            ...         ...         ...         ...         ...   \n",
       "116020      116020  2021-06-10  233.100006  234.259995  232.130005   \n",
       "116021      116021  2021-06-10   57.330002   57.610001   57.220001   \n",
       "116022      116022  2021-06-10   53.799999   55.580002   53.570000   \n",
       "116023      116023  2021-06-10  139.080002  140.190002  139.080002   \n",
       "116024      116024  2021-06-10   63.610001   63.980000   62.250000   \n",
       "\n",
       "             close     volume   tic  day  \n",
       "0         2.295634  807234400  AAPL    1  \n",
       "1        41.155041    7825700   AXP    1  \n",
       "2        50.119705    4943000    BA    1  \n",
       "3        38.086823    3697500   CAT    1  \n",
       "4        12.956775   55426000  CSCO    1  \n",
       "...            ...        ...   ...  ...  \n",
       "116020  233.949997    4452500     V    3  \n",
       "116021   57.340000   12013600    VZ    3  \n",
       "116022   55.310001    6638000   WBA    3  \n",
       "116023  139.880005    5459500   WMT    3  \n",
       "116024   62.750000   27488700   XOM    3  \n",
       "\n",
       "[116025 rows x 9 columns]"
      ]
     },
     "execution_count": 8,
     "metadata": {},
     "output_type": "execute_result"
    }
   ],
   "source": [
    "import pickle\n",
    "# df.drop('Unnamed: 0')with open('dji_df_2004-2021.pkl', 'rb') as f:\n",
    "#     df = pickle.load(f)\n",
    "\n",
    "df = pd.read_csv('dji_prices_2020_04_09.csv')\n",
    "df"
   ]
  },
  {
   "cell_type": "code",
   "execution_count": 9,
   "metadata": {},
   "outputs": [],
   "source": [
    "df = df.drop(['Unnamed: 0'], axis=1)"
   ]
  },
  {
   "cell_type": "code",
   "execution_count": 10,
   "metadata": {},
   "outputs": [],
   "source": [
    "df = df.sort_values(['date', 'tic'])"
   ]
  },
  {
   "cell_type": "code",
   "execution_count": 11,
   "metadata": {
    "id": "GiRuFOTOtj1Y",
    "outputId": "bf7071db-d71a-4e1b-a28f-8e0145e0d204"
   },
   "outputs": [
    {
     "data": {
      "text/html": [
       "<div>\n",
       "<style scoped>\n",
       "    .dataframe tbody tr th:only-of-type {\n",
       "        vertical-align: middle;\n",
       "    }\n",
       "\n",
       "    .dataframe tbody tr th {\n",
       "        vertical-align: top;\n",
       "    }\n",
       "\n",
       "    .dataframe thead th {\n",
       "        text-align: right;\n",
       "    }\n",
       "</style>\n",
       "<table border=\"1\" class=\"dataframe\">\n",
       "  <thead>\n",
       "    <tr style=\"text-align: right;\">\n",
       "      <th></th>\n",
       "      <th>date</th>\n",
       "      <th>open</th>\n",
       "      <th>high</th>\n",
       "      <th>low</th>\n",
       "      <th>close</th>\n",
       "      <th>volume</th>\n",
       "      <th>tic</th>\n",
       "      <th>day</th>\n",
       "    </tr>\n",
       "  </thead>\n",
       "  <tbody>\n",
       "    <tr>\n",
       "      <th>0</th>\n",
       "      <td>2006-01-03</td>\n",
       "      <td>2.585000</td>\n",
       "      <td>2.669643</td>\n",
       "      <td>2.580357</td>\n",
       "      <td>2.295634</td>\n",
       "      <td>807234400</td>\n",
       "      <td>AAPL</td>\n",
       "      <td>1</td>\n",
       "    </tr>\n",
       "    <tr>\n",
       "      <th>1</th>\n",
       "      <td>2006-01-03</td>\n",
       "      <td>51.700001</td>\n",
       "      <td>52.580002</td>\n",
       "      <td>51.049999</td>\n",
       "      <td>41.155041</td>\n",
       "      <td>7825700</td>\n",
       "      <td>AXP</td>\n",
       "      <td>1</td>\n",
       "    </tr>\n",
       "    <tr>\n",
       "      <th>2</th>\n",
       "      <td>2006-01-03</td>\n",
       "      <td>70.400002</td>\n",
       "      <td>70.599998</td>\n",
       "      <td>69.330002</td>\n",
       "      <td>50.119705</td>\n",
       "      <td>4943000</td>\n",
       "      <td>BA</td>\n",
       "      <td>1</td>\n",
       "    </tr>\n",
       "    <tr>\n",
       "      <th>3</th>\n",
       "      <td>2006-01-03</td>\n",
       "      <td>57.869999</td>\n",
       "      <td>58.110001</td>\n",
       "      <td>57.049999</td>\n",
       "      <td>38.086823</td>\n",
       "      <td>3697500</td>\n",
       "      <td>CAT</td>\n",
       "      <td>1</td>\n",
       "    </tr>\n",
       "    <tr>\n",
       "      <th>4</th>\n",
       "      <td>2006-01-03</td>\n",
       "      <td>17.209999</td>\n",
       "      <td>17.490000</td>\n",
       "      <td>17.180000</td>\n",
       "      <td>12.956775</td>\n",
       "      <td>55426000</td>\n",
       "      <td>CSCO</td>\n",
       "      <td>1</td>\n",
       "    </tr>\n",
       "  </tbody>\n",
       "</table>\n",
       "</div>"
      ],
      "text/plain": [
       "         date       open       high        low      close     volume   tic  \\\n",
       "0  2006-01-03   2.585000   2.669643   2.580357   2.295634  807234400  AAPL   \n",
       "1  2006-01-03  51.700001  52.580002  51.049999  41.155041    7825700   AXP   \n",
       "2  2006-01-03  70.400002  70.599998  69.330002  50.119705    4943000    BA   \n",
       "3  2006-01-03  57.869999  58.110001  57.049999  38.086823    3697500   CAT   \n",
       "4  2006-01-03  17.209999  17.490000  17.180000  12.956775   55426000  CSCO   \n",
       "\n",
       "   day  \n",
       "0    1  \n",
       "1    1  \n",
       "2    1  \n",
       "3    1  \n",
       "4    1  "
      ]
     },
     "execution_count": 11,
     "metadata": {},
     "output_type": "execute_result"
    }
   ],
   "source": [
    "df.head()"
   ]
  },
  {
   "cell_type": "code",
   "execution_count": 12,
   "metadata": {
    "id": "DSw4ZEzVtj1Z",
    "outputId": "1a04171b-04c8-4974-9c63-3195261d8fd5"
   },
   "outputs": [
    {
     "data": {
      "text/html": [
       "<div>\n",
       "<style scoped>\n",
       "    .dataframe tbody tr th:only-of-type {\n",
       "        vertical-align: middle;\n",
       "    }\n",
       "\n",
       "    .dataframe tbody tr th {\n",
       "        vertical-align: top;\n",
       "    }\n",
       "\n",
       "    .dataframe thead th {\n",
       "        text-align: right;\n",
       "    }\n",
       "</style>\n",
       "<table border=\"1\" class=\"dataframe\">\n",
       "  <thead>\n",
       "    <tr style=\"text-align: right;\">\n",
       "      <th></th>\n",
       "      <th>date</th>\n",
       "      <th>open</th>\n",
       "      <th>high</th>\n",
       "      <th>low</th>\n",
       "      <th>close</th>\n",
       "      <th>volume</th>\n",
       "      <th>tic</th>\n",
       "      <th>day</th>\n",
       "    </tr>\n",
       "  </thead>\n",
       "  <tbody>\n",
       "    <tr>\n",
       "      <th>116020</th>\n",
       "      <td>2021-06-10</td>\n",
       "      <td>233.100006</td>\n",
       "      <td>234.259995</td>\n",
       "      <td>232.130005</td>\n",
       "      <td>233.949997</td>\n",
       "      <td>4452500</td>\n",
       "      <td>V</td>\n",
       "      <td>3</td>\n",
       "    </tr>\n",
       "    <tr>\n",
       "      <th>116021</th>\n",
       "      <td>2021-06-10</td>\n",
       "      <td>57.330002</td>\n",
       "      <td>57.610001</td>\n",
       "      <td>57.220001</td>\n",
       "      <td>57.340000</td>\n",
       "      <td>12013600</td>\n",
       "      <td>VZ</td>\n",
       "      <td>3</td>\n",
       "    </tr>\n",
       "    <tr>\n",
       "      <th>116022</th>\n",
       "      <td>2021-06-10</td>\n",
       "      <td>53.799999</td>\n",
       "      <td>55.580002</td>\n",
       "      <td>53.570000</td>\n",
       "      <td>55.310001</td>\n",
       "      <td>6638000</td>\n",
       "      <td>WBA</td>\n",
       "      <td>3</td>\n",
       "    </tr>\n",
       "    <tr>\n",
       "      <th>116023</th>\n",
       "      <td>2021-06-10</td>\n",
       "      <td>139.080002</td>\n",
       "      <td>140.190002</td>\n",
       "      <td>139.080002</td>\n",
       "      <td>139.880005</td>\n",
       "      <td>5459500</td>\n",
       "      <td>WMT</td>\n",
       "      <td>3</td>\n",
       "    </tr>\n",
       "    <tr>\n",
       "      <th>116024</th>\n",
       "      <td>2021-06-10</td>\n",
       "      <td>63.610001</td>\n",
       "      <td>63.980000</td>\n",
       "      <td>62.250000</td>\n",
       "      <td>62.750000</td>\n",
       "      <td>27488700</td>\n",
       "      <td>XOM</td>\n",
       "      <td>3</td>\n",
       "    </tr>\n",
       "  </tbody>\n",
       "</table>\n",
       "</div>"
      ],
      "text/plain": [
       "              date        open        high         low       close    volume  \\\n",
       "116020  2021-06-10  233.100006  234.259995  232.130005  233.949997   4452500   \n",
       "116021  2021-06-10   57.330002   57.610001   57.220001   57.340000  12013600   \n",
       "116022  2021-06-10   53.799999   55.580002   53.570000   55.310001   6638000   \n",
       "116023  2021-06-10  139.080002  140.190002  139.080002  139.880005   5459500   \n",
       "116024  2021-06-10   63.610001   63.980000   62.250000   62.750000  27488700   \n",
       "\n",
       "        tic  day  \n",
       "116020    V    3  \n",
       "116021   VZ    3  \n",
       "116022  WBA    3  \n",
       "116023  WMT    3  \n",
       "116024  XOM    3  "
      ]
     },
     "execution_count": 12,
     "metadata": {},
     "output_type": "execute_result"
    }
   ],
   "source": [
    "df.tail()"
   ]
  },
  {
   "cell_type": "code",
   "execution_count": 13,
   "metadata": {
    "colab": {
     "base_uri": "https://localhost:8080/"
    },
    "id": "CV3HrZHLh1hy",
    "outputId": "b7b78172-8c8a-41c9-c8a6-0167edb9bd11"
   },
   "outputs": [
    {
     "data": {
      "text/plain": [
       "(116025, 8)"
      ]
     },
     "execution_count": 13,
     "metadata": {},
     "output_type": "execute_result"
    }
   ],
   "source": [
    "df.shape"
   ]
  },
  {
   "cell_type": "code",
   "execution_count": 14,
   "metadata": {},
   "outputs": [
    {
     "data": {
      "text/plain": [
       "array(['AAPL', 'AXP', 'BA', 'CAT', 'CSCO', 'CVX', 'DD', 'DIS', 'GS', 'HD',\n",
       "       'IBM', 'INTC', 'JNJ', 'JPM', 'KO', 'MCD', 'MMM', 'MRK', 'MSFT',\n",
       "       'NKE', 'PFE', 'PG', 'RTX', 'TRV', 'UNH', 'VZ', 'WBA', 'WMT', 'XOM',\n",
       "       'V'], dtype=object)"
      ]
     },
     "execution_count": 14,
     "metadata": {},
     "output_type": "execute_result"
    }
   ],
   "source": [
    "df.tic.unique()"
   ]
  },
  {
   "cell_type": "code",
   "execution_count": 15,
   "metadata": {},
   "outputs": [],
   "source": [
    "# import pickle\n",
    "# with open('dji_df_2004-2021.pkl', 'wb') as f:\n",
    "#     pickle.dump(df, f)"
   ]
  },
  {
   "cell_type": "markdown",
   "metadata": {
    "id": "uqC6c40Zh1iH"
   },
   "source": [
    "# Part 4: Preprocess Data\n",
    "Data preprocessing is a crucial step for training a high quality machine learning model. We need to check for missing data and do feature engineering in order to convert the data into a model-ready state.\n",
    "* Add technical indicators. In practical trading, various information needs to be taken into account, for example the historical stock prices, current holding shares, technical indicators, etc. In this article, we demonstrate two trend-following technical indicators: MACD and RSI.\n",
    "* Add turbulence index. Risk-aversion reflects whether an investor will choose to preserve the capital. It also influences one's trading strategy when facing different market volatility level. To control the risk in a worst-case scenario, such as financial crisis of 2007–2008, FinRL employs the financial turbulence index that measures extreme asset price fluctuation."
   ]
  },
  {
   "cell_type": "code",
   "execution_count": 16,
   "metadata": {},
   "outputs": [
    {
     "ename": "FileNotFoundError",
     "evalue": "[Errno 2] No such file or directory: '/home/roman/Work/trading-bot/notebooks/2004-2021_imputed_sentiment_final_df.pkl'",
     "output_type": "error",
     "traceback": [
      "\u001b[0;31m---------------------------------------------------------------------------\u001b[0m",
      "\u001b[0;31mFileNotFoundError\u001b[0m                         Traceback (most recent call last)",
      "\u001b[0;32m<ipython-input-16-7093a9a65924>\u001b[0m in \u001b[0;36m<module>\u001b[0;34m\u001b[0m\n\u001b[1;32m      1\u001b[0m \u001b[0;32mimport\u001b[0m \u001b[0mpickle\u001b[0m\u001b[0;34m\u001b[0m\u001b[0;34m\u001b[0m\u001b[0m\n\u001b[0;32m----> 2\u001b[0;31m \u001b[0;32mwith\u001b[0m \u001b[0mopen\u001b[0m\u001b[0;34m(\u001b[0m\u001b[0;34m'/home/roman/Work/trading-bot/notebooks/2004-2021_imputed_sentiment_final_df.pkl'\u001b[0m\u001b[0;34m,\u001b[0m \u001b[0;34m'rb'\u001b[0m\u001b[0;34m)\u001b[0m \u001b[0;32mas\u001b[0m \u001b[0mf\u001b[0m\u001b[0;34m:\u001b[0m\u001b[0;34m\u001b[0m\u001b[0;34m\u001b[0m\u001b[0m\n\u001b[0m\u001b[1;32m      3\u001b[0m     \u001b[0mdaily_sentiment_df\u001b[0m \u001b[0;34m=\u001b[0m \u001b[0mpickle\u001b[0m\u001b[0;34m.\u001b[0m\u001b[0mload\u001b[0m\u001b[0;34m(\u001b[0m\u001b[0mf\u001b[0m\u001b[0;34m)\u001b[0m\u001b[0;34m\u001b[0m\u001b[0;34m\u001b[0m\u001b[0m\n",
      "\u001b[0;31mFileNotFoundError\u001b[0m: [Errno 2] No such file or directory: '/home/roman/Work/trading-bot/notebooks/2004-2021_imputed_sentiment_final_df.pkl'"
     ]
    }
   ],
   "source": [
    "import pickle\n",
    "with open('/home/roman/Work/trading-bot/notebooks/2004-2021_imputed_sentiment_final_df.pkl', 'rb') as f:\n",
    "    daily_sentiment_df = pickle.load(f)"
   ]
  },
  {
   "cell_type": "code",
   "execution_count": 17,
   "metadata": {},
   "outputs": [
    {
     "ename": "FileNotFoundError",
     "evalue": "[Errno 2] No such file or directory: 'doc2vec_2004_2021_expanded_world_df.pkl'",
     "output_type": "error",
     "traceback": [
      "\u001b[0;31m---------------------------------------------------------------------------\u001b[0m",
      "\u001b[0;31mFileNotFoundError\u001b[0m                         Traceback (most recent call last)",
      "\u001b[0;32m<ipython-input-17-b7847b9ba1bb>\u001b[0m in \u001b[0;36m<module>\u001b[0;34m\u001b[0m\n\u001b[0;32m----> 1\u001b[0;31m \u001b[0;32mwith\u001b[0m \u001b[0mopen\u001b[0m\u001b[0;34m(\u001b[0m\u001b[0;34m'doc2vec_2004_2021_expanded_world_df.pkl'\u001b[0m\u001b[0;34m,\u001b[0m \u001b[0;34m'rb'\u001b[0m\u001b[0;34m)\u001b[0m \u001b[0;32mas\u001b[0m \u001b[0mf\u001b[0m\u001b[0;34m:\u001b[0m\u001b[0;34m\u001b[0m\u001b[0;34m\u001b[0m\u001b[0m\n\u001b[0m\u001b[1;32m      2\u001b[0m     \u001b[0mdoc2vec_2004_2021_expanded_world_df\u001b[0m \u001b[0;34m=\u001b[0m \u001b[0mpickle\u001b[0m\u001b[0;34m.\u001b[0m\u001b[0mload\u001b[0m\u001b[0;34m(\u001b[0m\u001b[0mf\u001b[0m\u001b[0;34m)\u001b[0m\u001b[0;34m\u001b[0m\u001b[0;34m\u001b[0m\u001b[0m\n",
      "\u001b[0;31mFileNotFoundError\u001b[0m: [Errno 2] No such file or directory: 'doc2vec_2004_2021_expanded_world_df.pkl'"
     ]
    }
   ],
   "source": [
    "with open('doc2vec_2004_2021_expanded_world_df.pkl', 'rb') as f:\n",
    "    doc2vec_2004_2021_expanded_world_df = pickle.load(f)"
   ]
  },
  {
   "cell_type": "code",
   "execution_count": 18,
   "metadata": {},
   "outputs": [
    {
     "ename": "NameError",
     "evalue": "name 'daily_sentiment_df' is not defined",
     "output_type": "error",
     "traceback": [
      "\u001b[0;31m---------------------------------------------------------------------------\u001b[0m",
      "\u001b[0;31mNameError\u001b[0m                                 Traceback (most recent call last)",
      "\u001b[0;32m<ipython-input-18-46692267fd80>\u001b[0m in \u001b[0;36m<module>\u001b[0;34m\u001b[0m\n\u001b[0;32m----> 1\u001b[0;31m \u001b[0mdaily_sentiment_df\u001b[0m\u001b[0;34m\u001b[0m\u001b[0;34m\u001b[0m\u001b[0m\n\u001b[0m",
      "\u001b[0;31mNameError\u001b[0m: name 'daily_sentiment_df' is not defined"
     ]
    }
   ],
   "source": [
    "daily_sentiment_df"
   ]
  },
  {
   "cell_type": "code",
   "execution_count": 19,
   "metadata": {
    "id": "jgXfBcjxtj1a",
    "outputId": "abf8d5bb-2cd2-4c12-d4cb-ed1c429e60ce",
    "pycharm": {
     "name": "#%%\n"
    }
   },
   "outputs": [
    {
     "name": "stdout",
     "output_type": "stream",
     "text": [
      "Successfully added technical indicators\n",
      "Successfully added turbulence index\n"
     ]
    }
   ],
   "source": [
    "fe = FeatureEngineer(\n",
    "                    use_technical_indicator=True,\n",
    "                    tech_indicator_list = config.TECHNICAL_INDICATORS_LIST,\n",
    "                    use_turbulence=True)\n",
    "\n",
    "processed = fe.preprocess_data(df)"
   ]
  },
  {
   "cell_type": "code",
   "execution_count": 20,
   "metadata": {},
   "outputs": [
    {
     "data": {
      "text/plain": [
       "['date',\n",
       " 'open',\n",
       " 'high',\n",
       " 'low',\n",
       " 'close',\n",
       " 'volume',\n",
       " 'tic',\n",
       " 'day',\n",
       " 'macd',\n",
       " 'boll_ub',\n",
       " 'boll_lb',\n",
       " 'rsi_30',\n",
       " 'cci_30',\n",
       " 'dx_30',\n",
       " 'close_30_sma',\n",
       " 'close_60_sma',\n",
       " 'turbulence']"
      ]
     },
     "execution_count": 20,
     "metadata": {},
     "output_type": "execute_result"
    }
   ],
   "source": [
    "list(processed.columns)"
   ]
  },
  {
   "cell_type": "code",
   "execution_count": 21,
   "metadata": {
    "id": "R_3v-ycktj1b"
   },
   "outputs": [
    {
     "ename": "NameError",
     "evalue": "name 'itertools' is not defined",
     "output_type": "error",
     "traceback": [
      "\u001b[0;31m---------------------------------------------------------------------------\u001b[0m",
      "\u001b[0;31mNameError\u001b[0m                                 Traceback (most recent call last)",
      "\u001b[0;32m<ipython-input-21-2f0eef153452>\u001b[0m in \u001b[0;36m<module>\u001b[0;34m\u001b[0m\n\u001b[1;32m      1\u001b[0m \u001b[0mlist_ticker\u001b[0m \u001b[0;34m=\u001b[0m \u001b[0mprocessed\u001b[0m\u001b[0;34m[\u001b[0m\u001b[0;34m\"tic\"\u001b[0m\u001b[0;34m]\u001b[0m\u001b[0;34m.\u001b[0m\u001b[0munique\u001b[0m\u001b[0;34m(\u001b[0m\u001b[0;34m)\u001b[0m\u001b[0;34m.\u001b[0m\u001b[0mtolist\u001b[0m\u001b[0;34m(\u001b[0m\u001b[0;34m)\u001b[0m\u001b[0;34m\u001b[0m\u001b[0;34m\u001b[0m\u001b[0m\n\u001b[1;32m      2\u001b[0m \u001b[0mlist_date\u001b[0m \u001b[0;34m=\u001b[0m \u001b[0mlist\u001b[0m\u001b[0;34m(\u001b[0m\u001b[0mpd\u001b[0m\u001b[0;34m.\u001b[0m\u001b[0mdate_range\u001b[0m\u001b[0;34m(\u001b[0m\u001b[0mprocessed\u001b[0m\u001b[0;34m[\u001b[0m\u001b[0;34m'date'\u001b[0m\u001b[0;34m]\u001b[0m\u001b[0;34m.\u001b[0m\u001b[0mmin\u001b[0m\u001b[0;34m(\u001b[0m\u001b[0;34m)\u001b[0m\u001b[0;34m,\u001b[0m\u001b[0mprocessed\u001b[0m\u001b[0;34m[\u001b[0m\u001b[0;34m'date'\u001b[0m\u001b[0;34m]\u001b[0m\u001b[0;34m.\u001b[0m\u001b[0mmax\u001b[0m\u001b[0;34m(\u001b[0m\u001b[0;34m)\u001b[0m\u001b[0;34m)\u001b[0m\u001b[0;34m.\u001b[0m\u001b[0mastype\u001b[0m\u001b[0;34m(\u001b[0m\u001b[0mstr\u001b[0m\u001b[0;34m)\u001b[0m\u001b[0;34m)\u001b[0m\u001b[0;34m\u001b[0m\u001b[0;34m\u001b[0m\u001b[0m\n\u001b[0;32m----> 3\u001b[0;31m \u001b[0mcombination\u001b[0m \u001b[0;34m=\u001b[0m \u001b[0mlist\u001b[0m\u001b[0;34m(\u001b[0m\u001b[0mitertools\u001b[0m\u001b[0;34m.\u001b[0m\u001b[0mproduct\u001b[0m\u001b[0;34m(\u001b[0m\u001b[0mlist_date\u001b[0m\u001b[0;34m,\u001b[0m\u001b[0mlist_ticker\u001b[0m\u001b[0;34m)\u001b[0m\u001b[0;34m)\u001b[0m\u001b[0;34m\u001b[0m\u001b[0;34m\u001b[0m\u001b[0m\n\u001b[0m\u001b[1;32m      4\u001b[0m \u001b[0;34m\u001b[0m\u001b[0m\n\u001b[1;32m      5\u001b[0m \u001b[0mprocessed_full\u001b[0m \u001b[0;34m=\u001b[0m \u001b[0mpd\u001b[0m\u001b[0;34m.\u001b[0m\u001b[0mDataFrame\u001b[0m\u001b[0;34m(\u001b[0m\u001b[0mcombination\u001b[0m\u001b[0;34m,\u001b[0m\u001b[0mcolumns\u001b[0m\u001b[0;34m=\u001b[0m\u001b[0;34m[\u001b[0m\u001b[0;34m\"date\"\u001b[0m\u001b[0;34m,\u001b[0m\u001b[0;34m\"tic\"\u001b[0m\u001b[0;34m]\u001b[0m\u001b[0;34m)\u001b[0m\u001b[0;34m.\u001b[0m\u001b[0mmerge\u001b[0m\u001b[0;34m(\u001b[0m\u001b[0mprocessed\u001b[0m\u001b[0;34m,\u001b[0m\u001b[0mon\u001b[0m\u001b[0;34m=\u001b[0m\u001b[0;34m[\u001b[0m\u001b[0;34m\"date\"\u001b[0m\u001b[0;34m,\u001b[0m\u001b[0;34m\"tic\"\u001b[0m\u001b[0;34m]\u001b[0m\u001b[0;34m,\u001b[0m\u001b[0mhow\u001b[0m\u001b[0;34m=\u001b[0m\u001b[0;34m\"left\"\u001b[0m\u001b[0;34m)\u001b[0m\u001b[0;34m\u001b[0m\u001b[0;34m\u001b[0m\u001b[0m\n",
      "\u001b[0;31mNameError\u001b[0m: name 'itertools' is not defined"
     ]
    }
   ],
   "source": [
    "list_ticker = processed[\"tic\"].unique().tolist()\n",
    "list_date = list(pd.date_range(processed['date'].min(),processed['date'].max()).astype(str))\n",
    "combination = list(itertools.product(list_date,list_ticker))\n",
    "\n",
    "processed_full = pd.DataFrame(combination,columns=[\"date\",\"tic\"]).merge(processed,on=[\"date\",\"tic\"],how=\"left\")\n",
    "processed_full = processed_full[processed_full['date'].isin(processed['date'])]\n",
    "processed_full = processed_full.sort_values(['date','tic'])\n",
    "\n",
    "processed_full = processed_full.fillna(0)"
   ]
  },
  {
   "cell_type": "code",
   "execution_count": null,
   "metadata": {
    "colab": {
     "base_uri": "https://localhost:8080/",
     "height": 340
    },
    "id": "grvhGJJII3Xn",
    "outputId": "91d09c37-b0e9-4c5c-d532-967e40d11f41"
   },
   "outputs": [],
   "source": [
    "processed_full.sample(5)"
   ]
  },
  {
   "cell_type": "code",
   "execution_count": null,
   "metadata": {},
   "outputs": [],
   "source": [
    "processed_full['date'][0]"
   ]
  },
  {
   "cell_type": "markdown",
   "metadata": {
    "id": "-QsYaY0Dh1iw"
   },
   "source": [
    "<a id='4'></a>\n",
    "# Part 5. Design Environment\n",
    "Considering the stochastic and interactive nature of the automated stock trading tasks, a financial task is modeled as a **Markov Decision Process (MDP)** problem. The training process involves observing stock price change, taking an action and reward's calculation to have the agent adjusting its strategy accordingly. By interacting with the environment, the trading agent will derive a trading strategy with the maximized rewards as time proceeds.\n",
    "\n",
    "Our trading environments, based on OpenAI Gym framework, simulate live stock markets with real market data according to the principle of time-driven simulation.\n",
    "\n",
    "The action space describes the allowed actions that the agent interacts with the environment. Normally, action a includes three actions: {-1, 0, 1}, where -1, 0, 1 represent selling, holding, and buying one share. Also, an action can be carried upon multiple shares. We use an action space {-k,…,-1, 0, 1, …, k}, where k denotes the number of shares to buy and -k denotes the number of shares to sell. For example, \"Buy 10 shares of AAPL\" or \"Sell 10 shares of AAPL\" are 10 or -10, respectively. The continuous action space needs to be normalized to [-1, 1], since the policy is defined on a Gaussian distribution, which needs to be normalized and symmetric."
   ]
  },
  {
   "cell_type": "code",
   "execution_count": null,
   "metadata": {
    "colab": {
     "base_uri": "https://localhost:8080/"
    },
    "id": "zYN573SOHhxG",
    "outputId": "187c6d1b-3e91-40f8-dafd-230d787f2ee1"
   },
   "outputs": [],
   "source": [
    "config.TECHNICAL_INDICATORS_LIST"
   ]
  },
  {
   "cell_type": "code",
   "execution_count": null,
   "metadata": {
    "colab": {
     "base_uri": "https://localhost:8080/"
    },
    "id": "Q2zqII8rMIqn",
    "outputId": "8a2c943b-1be4-4b8d-b64f-666e0852b7e6"
   },
   "outputs": [],
   "source": [
    "stock_dimension = len(processed_full.tic.unique())\n",
    "state_space = 1 + 2*stock_dimension + len(config.TECHNICAL_INDICATORS_LIST)*stock_dimension\n",
    "print(f\"Stock Dimension: {stock_dimension}, User Features: {config.NUMBER_OF_USER_FEATURES}, State Space: {state_space}\")\n"
   ]
  },
  {
   "cell_type": "code",
   "execution_count": null,
   "metadata": {
    "id": "AWyp84Ltto19"
   },
   "outputs": [],
   "source": [
    "env_kwargs = {\n",
    "    \"hmax\": 100, \n",
    "    \"initial_amount\": 50_000_000/100, #Since in Indonesia the minimum number of shares per trx is 100, then we scaled the initial amount by dividing it with 100 \n",
    "    \"buy_cost_pct\": 0.001, #IPOT has 0.19% buy cost\n",
    "    \"sell_cost_pct\": 0.001, #IPOT has 0.29% sell cost\n",
    "    \"state_space\": state_space, \n",
    "    \"stock_dim\": stock_dimension, \n",
    "    \"tech_indicator_list\": config.TECHNICAL_INDICATORS_LIST, \n",
    "    \"action_space\": stock_dimension, \n",
    "    \"reward_scaling\": 1e-4,\n",
    "    \"print_verbosity\":5\n",
    "    \n",
    "}"
   ]
  },
  {
   "cell_type": "markdown",
   "metadata": {
    "id": "HMNR5nHjh1iz"
   },
   "source": [
    "<a id='5'></a>\n",
    "# Part 6: Implement DRL Algorithms\n",
    "* The implementation of the DRL algorithms are based on **OpenAI Baselines** and **Stable Baselines**. Stable Baselines is a fork of OpenAI Baselines, with a major structural refactoring, and code cleanups.\n",
    "* FinRL library includes fine-tuned standard DRL algorithms, such as DQN, DDPG,\n",
    "Multi-Agent DDPG, PPO, SAC, A2C and TD3. We also allow users to\n",
    "design their own DRL algorithms by adapting these DRL algorithms.\n",
    "\n",
    "* In this notebook, we are training and validating 3 agents (A2C, PPO, DDPG) using Rolling-window Ensemble Method ([reference code](https://github.com/AI4Finance-LLC/Deep-Reinforcement-Learning-for-Automated-Stock-Trading-Ensemble-Strategy-ICAIF-2020/blob/80415db8fa7b2179df6bd7e81ce4fe8dbf913806/model/models.py#L92))"
   ]
  },
  {
   "cell_type": "code",
   "execution_count": 30,
   "metadata": {},
   "outputs": [
    {
     "name": "stdout",
     "output_type": "stream",
     "text": [
      "The autoreload extension is already loaded. To reload it, use:\n",
      "  %reload_ext autoreload\n"
     ]
    }
   ],
   "source": [
    "%load_ext autoreload\n",
    "%autoreload 2"
   ]
  },
  {
   "cell_type": "code",
   "execution_count": 31,
   "metadata": {
    "id": "v-gthCxMtj1d"
   },
   "outputs": [],
   "source": [
    "rebalance_window = 63 # rebalance_window is the number of days to retrain the model\n",
    "validation_window = 63 # validation_window is the number of days to do validation and trading (e.g. if validation_window=63, then both validation and trading period will be 63 days)\n",
    "train_start = '2006-01-03'\n",
    "train_end = '2016-01-01'\n",
    "val_test_start = '2016-01-01'\n",
    "val_test_end = '2021-06-11'\n",
    "\n",
    "ensemble_agent = DRLEnsembleAgent(df=processed_full,\n",
    "                 train_period=(train_start,train_end),\n",
    "                 val_test_period=(val_test_start,val_test_end),\n",
    "                 rebalance_window=rebalance_window, \n",
    "                 validation_window=validation_window,\n",
    "                 **env_kwargs)"
   ]
  },
  {
   "cell_type": "code",
   "execution_count": 32,
   "metadata": {},
   "outputs": [
    {
     "name": "stdout",
     "output_type": "stream",
     "text": [
      "[]\n"
     ]
    }
   ],
   "source": [
    "print([0]*0)"
   ]
  },
  {
   "cell_type": "code",
   "execution_count": null,
   "metadata": {
    "id": "KsfEHa_Etj1d",
    "scrolled": false
   },
   "outputs": [],
   "source": [
    "A2C_model_kwargs = {\n",
    "                    'n_steps': 5,\n",
    "                    'ent_coef': 0.01,\n",
    "                    'learning_rate': 0.0005\n",
    "                    }\n",
    "\n",
    "PPO_model_kwargs = {\n",
    "                    \"ent_coef\":0.01,\n",
    "                    \"n_steps\": 2048,\n",
    "                    \"learning_rate\": 0.00025,\n",
    "                    \"batch_size\": 128\n",
    "                    }\n",
    "\n",
    "DDPG_model_kwargs = {\n",
    "                      \"action_noise\":\"ornstein_uhlenbeck\",\n",
    "                      \"buffer_size\": 50_000,\n",
    "                      \"learning_rate\": 0.000005,\n",
    "                      \"batch_size\": 128\n",
    "                    }\n",
    "\n",
    "A2C2_model_kwargs = {\n",
    "                    'n_steps': 5,\n",
    "                    'ent_coef': 0.01,\n",
    "                    'learning_rate': 0.001\n",
    "                    }\n",
    "\n",
    "PPO2_model_kwargs = {\n",
    "                    \"ent_coef\":0.01,\n",
    "                    \"n_steps\": 2048,\n",
    "                    \"learning_rate\": 0.0005,\n",
    "                    \"batch_size\": 256\n",
    "                    }\n",
    "\n",
    "DDPG2_model_kwargs = {\n",
    "                      \"action_noise\":\"ornstein_uhlenbeck\",\n",
    "                      \"buffer_size\": 50_000,\n",
    "                      \"learning_rate\": 0.00001,\n",
    "                      \"batch_size\": 256\n",
    "                    }\n",
    "\n",
    "timesteps_dict = {'a2c' : 25_000, \n",
    "                 'ppo' : 25_000, \n",
    "                 'ddpg' : 15_000,\n",
    "                  'a2c2' : 15_000, \n",
    "                 'ppo2' : 15_000, \n",
    "                 'ddpg2' : 10_000\n",
    "                 }"
   ]
  },
  {
   "cell_type": "code",
   "execution_count": null,
   "metadata": {
    "id": "_1lyCECstj1e",
    "outputId": "72ac1ecc-909e-4d4c-d724-d906d7881ed9",
    "scrolled": true
   },
   "outputs": [],
   "source": [
    "import time\n",
    "start = time.time()# print([self.state[0]])\n",
    "        # print(self.data.close.values.tolist())\n",
    "        # print(list(self.state[(self.stock_dim+1):(self.stock_dim*2+1)]))\n",
    "        # print(sum([self.data[tech].values.tolist() for tech in self.tech_indicator_list ], []) )\n",
    "        # user_features_columns = self.data.columns[-config.NUMBER_OF_USER_FEATURES:]\n",
    "        # print(self.data[user_features_columns].values[0])\n",
    "df_summary = ensemble_agent.run_ensemble_strategy(A2C_model_kwargs, A2C2_model_kwargs, PPO_model_kwargs, PPO2_model_kwargs, DDPG_model_kwargs, DDPG2_model_kwargs, timesteps_dict)\n",
    "time_elapsed = time.time()-start\n",
    "print(time_elapsed)"
   ]
  },
  {
   "cell_type": "code",
   "execution_count": 33,
   "metadata": {
    "id": "-0qd8acMtj1f",
    "outputId": "a7fa85f0-7825-4b9a-d313-cd99ad70ecb0"
   },
   "outputs": [
    {
     "data": {
      "text/html": [
       "<div>\n",
       "<style scoped>\n",
       "    .dataframe tbody tr th:only-of-type {\n",
       "        vertical-align: middle;\n",
       "    }\n",
       "\n",
       "    .dataframe tbody tr th {\n",
       "        vertical-align: top;\n",
       "    }\n",
       "\n",
       "    .dataframe thead th {\n",
       "        text-align: right;\n",
       "    }\n",
       "</style>\n",
       "<table border=\"1\" class=\"dataframe\">\n",
       "  <thead>\n",
       "    <tr style=\"text-align: right;\">\n",
       "      <th></th>\n",
       "      <th>Iter</th>\n",
       "      <th>Val Start</th>\n",
       "      <th>Val End</th>\n",
       "      <th>Model Used</th>\n",
       "      <th>A2C Sharpe</th>\n",
       "      <th>PPO Sharpe</th>\n",
       "      <th>DDPG Sharpe</th>\n",
       "    </tr>\n",
       "  </thead>\n",
       "  <tbody>\n",
       "    <tr>\n",
       "      <th>0</th>\n",
       "      <td>126</td>\n",
       "      <td>2016-01-04</td>\n",
       "      <td>2016-04-05</td>\n",
       "      <td>A2C</td>\n",
       "      <td>0.2314</td>\n",
       "      <td>0.137868</td>\n",
       "      <td>0.138116</td>\n",
       "    </tr>\n",
       "    <tr>\n",
       "      <th>1</th>\n",
       "      <td>189</td>\n",
       "      <td>2016-04-05</td>\n",
       "      <td>2016-07-05</td>\n",
       "      <td>DDPG</td>\n",
       "      <td>0.023251</td>\n",
       "      <td>-0.02747</td>\n",
       "      <td>0.027674</td>\n",
       "    </tr>\n",
       "    <tr>\n",
       "      <th>2</th>\n",
       "      <td>252</td>\n",
       "      <td>2016-07-05</td>\n",
       "      <td>2016-10-03</td>\n",
       "      <td>DDPG</td>\n",
       "      <td>0.110485</td>\n",
       "      <td>-0.199811</td>\n",
       "      <td>0.160881</td>\n",
       "    </tr>\n",
       "    <tr>\n",
       "      <th>3</th>\n",
       "      <td>315</td>\n",
       "      <td>2016-10-03</td>\n",
       "      <td>2017-01-03</td>\n",
       "      <td>DDPG</td>\n",
       "      <td>0.314206</td>\n",
       "      <td>0.153133</td>\n",
       "      <td>0.621001</td>\n",
       "    </tr>\n",
       "    <tr>\n",
       "      <th>4</th>\n",
       "      <td>378</td>\n",
       "      <td>2017-01-03</td>\n",
       "      <td>2017-04-04</td>\n",
       "      <td>DDPG</td>\n",
       "      <td>0.203685</td>\n",
       "      <td>0.021583</td>\n",
       "      <td>0.21147</td>\n",
       "    </tr>\n",
       "    <tr>\n",
       "      <th>5</th>\n",
       "      <td>441</td>\n",
       "      <td>2017-04-04</td>\n",
       "      <td>2017-07-05</td>\n",
       "      <td>DDPG</td>\n",
       "      <td>0.095114</td>\n",
       "      <td>0.033792</td>\n",
       "      <td>0.317426</td>\n",
       "    </tr>\n",
       "    <tr>\n",
       "      <th>6</th>\n",
       "      <td>504</td>\n",
       "      <td>2017-07-05</td>\n",
       "      <td>2017-10-03</td>\n",
       "      <td>A2C</td>\n",
       "      <td>0.377324</td>\n",
       "      <td>0.121963</td>\n",
       "      <td>0.251148</td>\n",
       "    </tr>\n",
       "    <tr>\n",
       "      <th>7</th>\n",
       "      <td>567</td>\n",
       "      <td>2017-10-03</td>\n",
       "      <td>2018-01-03</td>\n",
       "      <td>DDPG</td>\n",
       "      <td>0.574725</td>\n",
       "      <td>0.341799</td>\n",
       "      <td>0.793806</td>\n",
       "    </tr>\n",
       "    <tr>\n",
       "      <th>8</th>\n",
       "      <td>630</td>\n",
       "      <td>2018-01-03</td>\n",
       "      <td>2018-04-05</td>\n",
       "      <td>A2C</td>\n",
       "      <td>0.001569</td>\n",
       "      <td>-0.112015</td>\n",
       "      <td>-0.014637</td>\n",
       "    </tr>\n",
       "    <tr>\n",
       "      <th>9</th>\n",
       "      <td>693</td>\n",
       "      <td>2018-04-05</td>\n",
       "      <td>2018-07-05</td>\n",
       "      <td>DDPG</td>\n",
       "      <td>-0.02719</td>\n",
       "      <td>-0.1257</td>\n",
       "      <td>-0.015095</td>\n",
       "    </tr>\n",
       "    <tr>\n",
       "      <th>10</th>\n",
       "      <td>756</td>\n",
       "      <td>2018-07-05</td>\n",
       "      <td>2018-10-03</td>\n",
       "      <td>A2C</td>\n",
       "      <td>0.450082</td>\n",
       "      <td>0.147365</td>\n",
       "      <td>0.418461</td>\n",
       "    </tr>\n",
       "    <tr>\n",
       "      <th>11</th>\n",
       "      <td>819</td>\n",
       "      <td>2018-10-03</td>\n",
       "      <td>2019-01-04</td>\n",
       "      <td>A2C</td>\n",
       "      <td>-0.25981</td>\n",
       "      <td>-0.40007</td>\n",
       "      <td>-0.330967</td>\n",
       "    </tr>\n",
       "    <tr>\n",
       "      <th>12</th>\n",
       "      <td>882</td>\n",
       "      <td>2019-01-04</td>\n",
       "      <td>2019-04-05</td>\n",
       "      <td>DDPG</td>\n",
       "      <td>0.406631</td>\n",
       "      <td>0.190899</td>\n",
       "      <td>0.495319</td>\n",
       "    </tr>\n",
       "    <tr>\n",
       "      <th>13</th>\n",
       "      <td>945</td>\n",
       "      <td>2019-04-05</td>\n",
       "      <td>2019-07-08</td>\n",
       "      <td>DDPG</td>\n",
       "      <td>-0.032597</td>\n",
       "      <td>0.109825</td>\n",
       "      <td>0.240779</td>\n",
       "    </tr>\n",
       "    <tr>\n",
       "      <th>14</th>\n",
       "      <td>1008</td>\n",
       "      <td>2019-07-08</td>\n",
       "      <td>2019-10-04</td>\n",
       "      <td>A2C</td>\n",
       "      <td>-0.104909</td>\n",
       "      <td>-0.200958</td>\n",
       "      <td>-0.12477</td>\n",
       "    </tr>\n",
       "    <tr>\n",
       "      <th>15</th>\n",
       "      <td>1071</td>\n",
       "      <td>2019-10-04</td>\n",
       "      <td>2020-01-06</td>\n",
       "      <td>A2C</td>\n",
       "      <td>0.409</td>\n",
       "      <td>0.212395</td>\n",
       "      <td>-0.099511</td>\n",
       "    </tr>\n",
       "    <tr>\n",
       "      <th>16</th>\n",
       "      <td>1134</td>\n",
       "      <td>2020-01-06</td>\n",
       "      <td>2020-04-06</td>\n",
       "      <td>DDPG</td>\n",
       "      <td>-0.372937</td>\n",
       "      <td>-0.347581</td>\n",
       "      <td>-0.26482</td>\n",
       "    </tr>\n",
       "    <tr>\n",
       "      <th>17</th>\n",
       "      <td>1197</td>\n",
       "      <td>2020-04-06</td>\n",
       "      <td>2020-07-07</td>\n",
       "      <td>DDPG</td>\n",
       "      <td>0.17941</td>\n",
       "      <td>0.079824</td>\n",
       "      <td>0.274104</td>\n",
       "    </tr>\n",
       "    <tr>\n",
       "      <th>18</th>\n",
       "      <td>1260</td>\n",
       "      <td>2020-07-07</td>\n",
       "      <td>2020-10-05</td>\n",
       "      <td>DDPG</td>\n",
       "      <td>0.017552</td>\n",
       "      <td>-0.013615</td>\n",
       "      <td>0.035169</td>\n",
       "    </tr>\n",
       "    <tr>\n",
       "      <th>19</th>\n",
       "      <td>1323</td>\n",
       "      <td>2020-10-05</td>\n",
       "      <td>2021-01-05</td>\n",
       "      <td>A2C</td>\n",
       "      <td>0.330596</td>\n",
       "      <td>0.262684</td>\n",
       "      <td>0.055981</td>\n",
       "    </tr>\n",
       "  </tbody>\n",
       "</table>\n",
       "</div>"
      ],
      "text/plain": [
       "    Iter   Val Start     Val End Model Used A2C Sharpe PPO Sharpe DDPG Sharpe\n",
       "0    126  2016-01-04  2016-04-05        A2C     0.2314   0.137868    0.138116\n",
       "1    189  2016-04-05  2016-07-05       DDPG   0.023251   -0.02747    0.027674\n",
       "2    252  2016-07-05  2016-10-03       DDPG   0.110485  -0.199811    0.160881\n",
       "3    315  2016-10-03  2017-01-03       DDPG   0.314206   0.153133    0.621001\n",
       "4    378  2017-01-03  2017-04-04       DDPG   0.203685   0.021583     0.21147\n",
       "5    441  2017-04-04  2017-07-05       DDPG   0.095114   0.033792    0.317426\n",
       "6    504  2017-07-05  2017-10-03        A2C   0.377324   0.121963    0.251148\n",
       "7    567  2017-10-03  2018-01-03       DDPG   0.574725   0.341799    0.793806\n",
       "8    630  2018-01-03  2018-04-05        A2C   0.001569  -0.112015   -0.014637\n",
       "9    693  2018-04-05  2018-07-05       DDPG   -0.02719    -0.1257   -0.015095\n",
       "10   756  2018-07-05  2018-10-03        A2C   0.450082   0.147365    0.418461\n",
       "11   819  2018-10-03  2019-01-04        A2C   -0.25981   -0.40007   -0.330967\n",
       "12   882  2019-01-04  2019-04-05       DDPG   0.406631   0.190899    0.495319\n",
       "13   945  2019-04-05  2019-07-08       DDPG  -0.032597   0.109825    0.240779\n",
       "14  1008  2019-07-08  2019-10-04        A2C  -0.104909  -0.200958    -0.12477\n",
       "15  1071  2019-10-04  2020-01-06        A2C      0.409   0.212395   -0.099511\n",
       "16  1134  2020-01-06  2020-04-06       DDPG  -0.372937  -0.347581    -0.26482\n",
       "17  1197  2020-04-06  2020-07-07       DDPG    0.17941   0.079824    0.274104\n",
       "18  1260  2020-07-07  2020-10-05       DDPG   0.017552  -0.013615    0.035169\n",
       "19  1323  2020-10-05  2021-01-05        A2C   0.330596   0.262684    0.055981"
      ]
     },
     "execution_count": 33,
     "metadata": {},
     "output_type": "execute_result"
    }
   ],
   "source": [
    "df_summary"
   ]
  },
  {
   "cell_type": "code",
   "execution_count": null,
   "metadata": {},
   "outputs": [],
   "source": [
    "del fe"
   ]
  },
  {
   "cell_type": "code",
   "execution_count": 34,
   "metadata": {},
   "outputs": [],
   "source": [
    "import dill\n",
    "dill.dump_session('17_year_sharpe_reward_dow.db')"
   ]
  },
  {
   "cell_type": "code",
   "execution_count": 35,
   "metadata": {},
   "outputs": [
    {
     "data": {
      "text/html": [
       "<div>\n",
       "<style scoped>\n",
       "    .dataframe tbody tr th:only-of-type {\n",
       "        vertical-align: middle;\n",
       "    }\n",
       "\n",
       "    .dataframe tbody tr th {\n",
       "        vertical-align: top;\n",
       "    }\n",
       "\n",
       "    .dataframe thead th {\n",
       "        text-align: right;\n",
       "    }\n",
       "</style>\n",
       "<table border=\"1\" class=\"dataframe\">\n",
       "  <thead>\n",
       "    <tr style=\"text-align: right;\">\n",
       "      <th></th>\n",
       "      <th>date</th>\n",
       "      <th>tic</th>\n",
       "      <th>open</th>\n",
       "      <th>high</th>\n",
       "      <th>low</th>\n",
       "      <th>close</th>\n",
       "      <th>volume</th>\n",
       "      <th>day</th>\n",
       "      <th>macd</th>\n",
       "      <th>boll_ub</th>\n",
       "      <th>boll_lb</th>\n",
       "      <th>rsi_30</th>\n",
       "      <th>cci_30</th>\n",
       "      <th>dx_30</th>\n",
       "      <th>close_30_sma</th>\n",
       "      <th>close_60_sma</th>\n",
       "      <th>turbulence</th>\n",
       "    </tr>\n",
       "  </thead>\n",
       "  <tbody>\n",
       "    <tr>\n",
       "      <th>0</th>\n",
       "      <td>2006-01-03</td>\n",
       "      <td>AAPL</td>\n",
       "      <td>2.585000</td>\n",
       "      <td>2.669643</td>\n",
       "      <td>2.580357</td>\n",
       "      <td>2.295634</td>\n",
       "      <td>807234400.0</td>\n",
       "      <td>1.0</td>\n",
       "      <td>0.000000</td>\n",
       "      <td>2.308567</td>\n",
       "      <td>2.289456</td>\n",
       "      <td>100.000000</td>\n",
       "      <td>66.666667</td>\n",
       "      <td>100.000000</td>\n",
       "      <td>2.295634</td>\n",
       "      <td>2.295634</td>\n",
       "      <td>0.000000</td>\n",
       "    </tr>\n",
       "    <tr>\n",
       "      <th>1</th>\n",
       "      <td>2006-01-03</td>\n",
       "      <td>AXP</td>\n",
       "      <td>51.700001</td>\n",
       "      <td>52.580002</td>\n",
       "      <td>51.049999</td>\n",
       "      <td>41.155041</td>\n",
       "      <td>7825700.0</td>\n",
       "      <td>1.0</td>\n",
       "      <td>0.000000</td>\n",
       "      <td>2.308567</td>\n",
       "      <td>2.289456</td>\n",
       "      <td>100.000000</td>\n",
       "      <td>66.666667</td>\n",
       "      <td>100.000000</td>\n",
       "      <td>41.155041</td>\n",
       "      <td>41.155041</td>\n",
       "      <td>0.000000</td>\n",
       "    </tr>\n",
       "    <tr>\n",
       "      <th>2</th>\n",
       "      <td>2006-01-03</td>\n",
       "      <td>BA</td>\n",
       "      <td>70.400002</td>\n",
       "      <td>70.599998</td>\n",
       "      <td>69.330002</td>\n",
       "      <td>50.119705</td>\n",
       "      <td>4943000.0</td>\n",
       "      <td>1.0</td>\n",
       "      <td>0.000000</td>\n",
       "      <td>2.308567</td>\n",
       "      <td>2.289456</td>\n",
       "      <td>100.000000</td>\n",
       "      <td>66.666667</td>\n",
       "      <td>100.000000</td>\n",
       "      <td>50.119705</td>\n",
       "      <td>50.119705</td>\n",
       "      <td>0.000000</td>\n",
       "    </tr>\n",
       "    <tr>\n",
       "      <th>3</th>\n",
       "      <td>2006-01-03</td>\n",
       "      <td>CAT</td>\n",
       "      <td>57.869999</td>\n",
       "      <td>58.110001</td>\n",
       "      <td>57.049999</td>\n",
       "      <td>38.086823</td>\n",
       "      <td>3697500.0</td>\n",
       "      <td>1.0</td>\n",
       "      <td>0.000000</td>\n",
       "      <td>2.308567</td>\n",
       "      <td>2.289456</td>\n",
       "      <td>100.000000</td>\n",
       "      <td>66.666667</td>\n",
       "      <td>100.000000</td>\n",
       "      <td>38.086823</td>\n",
       "      <td>38.086823</td>\n",
       "      <td>0.000000</td>\n",
       "    </tr>\n",
       "    <tr>\n",
       "      <th>4</th>\n",
       "      <td>2006-01-03</td>\n",
       "      <td>CSCO</td>\n",
       "      <td>17.209999</td>\n",
       "      <td>17.490000</td>\n",
       "      <td>17.180000</td>\n",
       "      <td>12.956775</td>\n",
       "      <td>55426000.0</td>\n",
       "      <td>1.0</td>\n",
       "      <td>0.000000</td>\n",
       "      <td>2.308567</td>\n",
       "      <td>2.289456</td>\n",
       "      <td>100.000000</td>\n",
       "      <td>66.666667</td>\n",
       "      <td>100.000000</td>\n",
       "      <td>12.956775</td>\n",
       "      <td>12.956775</td>\n",
       "      <td>0.000000</td>\n",
       "    </tr>\n",
       "    <tr>\n",
       "      <th>...</th>\n",
       "      <td>...</td>\n",
       "      <td>...</td>\n",
       "      <td>...</td>\n",
       "      <td>...</td>\n",
       "      <td>...</td>\n",
       "      <td>...</td>\n",
       "      <td>...</td>\n",
       "      <td>...</td>\n",
       "      <td>...</td>\n",
       "      <td>...</td>\n",
       "      <td>...</td>\n",
       "      <td>...</td>\n",
       "      <td>...</td>\n",
       "      <td>...</td>\n",
       "      <td>...</td>\n",
       "      <td>...</td>\n",
       "      <td>...</td>\n",
       "    </tr>\n",
       "    <tr>\n",
       "      <th>169139</th>\n",
       "      <td>2021-06-10</td>\n",
       "      <td>V</td>\n",
       "      <td>233.100006</td>\n",
       "      <td>234.259995</td>\n",
       "      <td>232.130005</td>\n",
       "      <td>233.949997</td>\n",
       "      <td>4452500.0</td>\n",
       "      <td>3.0</td>\n",
       "      <td>1.668748</td>\n",
       "      <td>233.608472</td>\n",
       "      <td>222.814534</td>\n",
       "      <td>58.710599</td>\n",
       "      <td>108.800722</td>\n",
       "      <td>30.377055</td>\n",
       "      <td>228.689480</td>\n",
       "      <td>224.125779</td>\n",
       "      <td>33.831745</td>\n",
       "    </tr>\n",
       "    <tr>\n",
       "      <th>169135</th>\n",
       "      <td>2021-06-10</td>\n",
       "      <td>VZ</td>\n",
       "      <td>57.330002</td>\n",
       "      <td>57.610001</td>\n",
       "      <td>57.220001</td>\n",
       "      <td>57.340000</td>\n",
       "      <td>12013600.0</td>\n",
       "      <td>3.0</td>\n",
       "      <td>-0.144320</td>\n",
       "      <td>58.482470</td>\n",
       "      <td>55.706530</td>\n",
       "      <td>50.785631</td>\n",
       "      <td>-13.987824</td>\n",
       "      <td>0.130661</td>\n",
       "      <td>57.556333</td>\n",
       "      <td>57.430342</td>\n",
       "      <td>33.831745</td>\n",
       "    </tr>\n",
       "    <tr>\n",
       "      <th>169136</th>\n",
       "      <td>2021-06-10</td>\n",
       "      <td>WBA</td>\n",
       "      <td>53.799999</td>\n",
       "      <td>55.580002</td>\n",
       "      <td>53.570000</td>\n",
       "      <td>55.310001</td>\n",
       "      <td>6638000.0</td>\n",
       "      <td>3.0</td>\n",
       "      <td>0.242677</td>\n",
       "      <td>55.862549</td>\n",
       "      <td>52.305305</td>\n",
       "      <td>56.676743</td>\n",
       "      <td>75.341122</td>\n",
       "      <td>1.054941</td>\n",
       "      <td>53.905892</td>\n",
       "      <td>53.519815</td>\n",
       "      <td>33.831745</td>\n",
       "    </tr>\n",
       "    <tr>\n",
       "      <th>169137</th>\n",
       "      <td>2021-06-10</td>\n",
       "      <td>WMT</td>\n",
       "      <td>139.080002</td>\n",
       "      <td>140.190002</td>\n",
       "      <td>139.080002</td>\n",
       "      <td>139.880005</td>\n",
       "      <td>5459500.0</td>\n",
       "      <td>3.0</td>\n",
       "      <td>0.202702</td>\n",
       "      <td>143.623730</td>\n",
       "      <td>138.455272</td>\n",
       "      <td>50.613731</td>\n",
       "      <td>-58.482475</td>\n",
       "      <td>8.501810</td>\n",
       "      <td>140.619338</td>\n",
       "      <td>138.698263</td>\n",
       "      <td>33.831745</td>\n",
       "    </tr>\n",
       "    <tr>\n",
       "      <th>169138</th>\n",
       "      <td>2021-06-10</td>\n",
       "      <td>XOM</td>\n",
       "      <td>63.610001</td>\n",
       "      <td>63.980000</td>\n",
       "      <td>62.250000</td>\n",
       "      <td>62.750000</td>\n",
       "      <td>27488700.0</td>\n",
       "      <td>3.0</td>\n",
       "      <td>1.060886</td>\n",
       "      <td>63.255273</td>\n",
       "      <td>57.322726</td>\n",
       "      <td>60.609907</td>\n",
       "      <td>148.516014</td>\n",
       "      <td>41.855094</td>\n",
       "      <td>60.011436</td>\n",
       "      <td>57.827412</td>\n",
       "      <td>33.831745</td>\n",
       "    </tr>\n",
       "  </tbody>\n",
       "</table>\n",
       "<p>116580 rows × 17 columns</p>\n",
       "</div>"
      ],
      "text/plain": [
       "              date   tic        open        high         low       close  \\\n",
       "0       2006-01-03  AAPL    2.585000    2.669643    2.580357    2.295634   \n",
       "1       2006-01-03   AXP   51.700001   52.580002   51.049999   41.155041   \n",
       "2       2006-01-03    BA   70.400002   70.599998   69.330002   50.119705   \n",
       "3       2006-01-03   CAT   57.869999   58.110001   57.049999   38.086823   \n",
       "4       2006-01-03  CSCO   17.209999   17.490000   17.180000   12.956775   \n",
       "...            ...   ...         ...         ...         ...         ...   \n",
       "169139  2021-06-10     V  233.100006  234.259995  232.130005  233.949997   \n",
       "169135  2021-06-10    VZ   57.330002   57.610001   57.220001   57.340000   \n",
       "169136  2021-06-10   WBA   53.799999   55.580002   53.570000   55.310001   \n",
       "169137  2021-06-10   WMT  139.080002  140.190002  139.080002  139.880005   \n",
       "169138  2021-06-10   XOM   63.610001   63.980000   62.250000   62.750000   \n",
       "\n",
       "             volume  day      macd     boll_ub     boll_lb      rsi_30  \\\n",
       "0       807234400.0  1.0  0.000000    2.308567    2.289456  100.000000   \n",
       "1         7825700.0  1.0  0.000000    2.308567    2.289456  100.000000   \n",
       "2         4943000.0  1.0  0.000000    2.308567    2.289456  100.000000   \n",
       "3         3697500.0  1.0  0.000000    2.308567    2.289456  100.000000   \n",
       "4        55426000.0  1.0  0.000000    2.308567    2.289456  100.000000   \n",
       "...             ...  ...       ...         ...         ...         ...   \n",
       "169139    4452500.0  3.0  1.668748  233.608472  222.814534   58.710599   \n",
       "169135   12013600.0  3.0 -0.144320   58.482470   55.706530   50.785631   \n",
       "169136    6638000.0  3.0  0.242677   55.862549   52.305305   56.676743   \n",
       "169137    5459500.0  3.0  0.202702  143.623730  138.455272   50.613731   \n",
       "169138   27488700.0  3.0  1.060886   63.255273   57.322726   60.609907   \n",
       "\n",
       "            cci_30       dx_30  close_30_sma  close_60_sma  turbulence  \n",
       "0        66.666667  100.000000      2.295634      2.295634    0.000000  \n",
       "1        66.666667  100.000000     41.155041     41.155041    0.000000  \n",
       "2        66.666667  100.000000     50.119705     50.119705    0.000000  \n",
       "3        66.666667  100.000000     38.086823     38.086823    0.000000  \n",
       "4        66.666667  100.000000     12.956775     12.956775    0.000000  \n",
       "...            ...         ...           ...           ...         ...  \n",
       "169139  108.800722   30.377055    228.689480    224.125779   33.831745  \n",
       "169135  -13.987824    0.130661     57.556333     57.430342   33.831745  \n",
       "169136   75.341122    1.054941     53.905892     53.519815   33.831745  \n",
       "169137  -58.482475    8.501810    140.619338    138.698263   33.831745  \n",
       "169138  148.516014   41.855094     60.011436     57.827412   33.831745  \n",
       "\n",
       "[116580 rows x 17 columns]"
      ]
     },
     "execution_count": 35,
     "metadata": {},
     "output_type": "execute_result"
    }
   ],
   "source": [
    "processed_full"
   ]
  },
  {
   "cell_type": "code",
   "execution_count": 36,
   "metadata": {},
   "outputs": [],
   "source": [
    "import pickle\n",
    "with open('17_year_sharpe_reward_dow_df_summary.pkl', 'wb') as f:\n",
    "    pickle.dump(df_summary, f)"
   ]
  },
  {
   "cell_type": "code",
   "execution_count": 37,
   "metadata": {},
   "outputs": [],
   "source": [
    "with open('17_year_sharpe_reward_dow.pkl_processed_full', 'wb') as f:\n",
    "    pickle.dump(processed_full, f)"
   ]
  },
  {
   "cell_type": "code",
   "execution_count": 38,
   "metadata": {},
   "outputs": [],
   "source": [
    "with open('17_year_sharpe_reward_dow_agent.pkl', 'wb') as f:\n",
    "    pickle.dump(ensemble_agent, f)"
   ]
  },
  {
   "cell_type": "code",
   "execution_count": null,
   "metadata": {},
   "outputs": [],
   "source": []
  }
 ],
 "metadata": {
  "colab": {
   "collapsed_sections": [
    "uijiWgkuh1jB",
    "MRiOtrywfAo1",
    "_gDkU-j-fCmZ",
    "3Zpv4S0-fDBv"
   ],
   "include_colab_link": true,
   "name": "FinRL_ensemble_stock_trading_ICAIF_2020.ipynb",
   "provenance": [],
   "toc_visible": true
  },
  "kernelspec": {
   "display_name": "trading",
   "language": "python",
   "name": "trading"
  },
  "language_info": {
   "codemirror_mode": {
    "name": "ipython",
    "version": 3
   },
   "file_extension": ".py",
   "mimetype": "text/x-python",
   "name": "python",
   "nbconvert_exporter": "python",
   "pygments_lexer": "ipython3",
   "version": "3.7.10"
  },
  "pycharm": {
   "stem_cell": {
    "cell_type": "raw",
    "metadata": {
     "collapsed": false
    },
    "source": []
   }
  }
 },
 "nbformat": 4,
 "nbformat_minor": 1
}
